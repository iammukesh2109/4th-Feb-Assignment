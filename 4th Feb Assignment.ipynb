{
 "cells": [
  {
   "cell_type": "code",
   "execution_count": 3,
   "id": "282ed2cb-076a-4d9a-bca8-27fe047e46f5",
   "metadata": {},
   "outputs": [
    {
     "name": "stdout",
     "output_type": "stream",
     "text": [
      "[('Virat Kohli', 24936), ('Jack Kallis', 25534), ('Ricky Ponting', 27483), ('Sachin Tendulkar', 34357)]\n"
     ]
    }
   ],
   "source": [
    "#1. Create a python program to sort the given list of tuples based on integer value using a lambda function.\n",
    "# [('Sachin Tendulkar',34357),('Ricky Ponting',27483),('Jack Kallis',25534),('Virat Kohli',24936)]\n",
    "\n",
    "l = [('Sachin Tendulkar',34357),('Ricky Ponting',27483),('Jack Kallis',25534),('Virat Kohli',24936)]\n",
    "l.sort(key=lambda x: x[1])\n",
    "print(l)"
   ]
  },
  {
   "cell_type": "code",
   "execution_count": 4,
   "id": "8b5ae1ed-395a-4031-8409-090d1c600957",
   "metadata": {},
   "outputs": [
    {
     "name": "stdout",
     "output_type": "stream",
     "text": [
      "[1, 4, 9, 16, 25, 36, 49, 64, 81, 100]\n"
     ]
    }
   ],
   "source": [
    "#2.Write a python program to find the square of all the numbers in the given list of integers using lambda and map functions.\n",
    "# [1,2,3,4,5,6,7,8,9,10]\n",
    "\n",
    "numbers = [1, 2, 3, 4, 5, 6, 7, 8, 9, 10]\n",
    "squares = list(map(lambda x: x**2, numbers))\n",
    "print(squares)\n"
   ]
  },
  {
   "cell_type": "code",
   "execution_count": 5,
   "id": "3030c9cc-18b0-4c46-ad07-cb683e09f837",
   "metadata": {},
   "outputs": [
    {
     "name": "stdout",
     "output_type": "stream",
     "text": [
      "('1', '2', '3', '4', '5', '6', '7', '8', '9', '10')\n"
     ]
    }
   ],
   "source": [
    "#3.Write a python program to convert the given list of integers into a tuple of strings. Use map and lambda function.\n",
    "#Given String: [1,2,3,4,5,6,7,8,9,10]\n",
    "#Expected Output: ('1','2','3','4','5','6','7','8','9','10')\n",
    "numbers = [1, 2, 3, 4, 5, 6, 7, 8, 9, 10]\n",
    "strings = tuple(map(lambda x: str(x), numbers))\n",
    "print(strings)\n"
   ]
  },
  {
   "cell_type": "code",
   "execution_count": 6,
   "id": "9ff7bbbe-5d7b-49d8-8556-b57112986740",
   "metadata": {},
   "outputs": [
    {
     "name": "stdout",
     "output_type": "stream",
     "text": [
      "15511210043330985984000000\n"
     ]
    }
   ],
   "source": [
    "#4. Write a python program using reduce function to compute the product of a list containing numbers from 1 yo 25.\n",
    "from functools import reduce\n",
    "\n",
    "numbers = list(range(1, 26))\n",
    "product = reduce(lambda x, y: x * y, numbers)\n",
    "print(product)\n"
   ]
  },
  {
   "cell_type": "code",
   "execution_count": 7,
   "id": "e6780887-d142-4c79-aac3-2a67d8255d8b",
   "metadata": {},
   "outputs": [
    {
     "name": "stdout",
     "output_type": "stream",
     "text": [
      "[6, 60, 90, 120]\n"
     ]
    }
   ],
   "source": [
    "#5. Write a python program to filter the number in a given list that are divisible by 2 and 3 using the filter function.\n",
    "# [2,3,6,9,27,60,90,120,55,46]\n",
    "my_list = [2, 3, 6, 9, 27, 60, 90, 120, 55, 46]\n",
    "result = list(filter(lambda x: (x % 2 == 0) and (x % 3 == 0), my_list))\n",
    "print(result)\n"
   ]
  },
  {
   "cell_type": "code",
   "execution_count": 8,
   "id": "86bedb1e-aa66-4a6e-9558-769c69b5f21c",
   "metadata": {},
   "outputs": [
    {
     "name": "stdout",
     "output_type": "stream",
     "text": [
      "['php', 'radar', 'level']\n"
     ]
    }
   ],
   "source": [
    "#6. Write a python program to find palindromes in the given list of strings using a lambda and filter function.\n",
    "#['python','php','radar','level']\n",
    "my_list = ['python', 'php', 'radar', 'level']\n",
    "result = list(filter(lambda x: x == x[::-1], my_list))\n",
    "print(result)\n"
   ]
  },
  {
   "cell_type": "code",
   "execution_count": null,
   "id": "b1290fe9-87a6-44e3-8fcb-ce01114b6f48",
   "metadata": {},
   "outputs": [],
   "source": []
  }
 ],
 "metadata": {
  "kernelspec": {
   "display_name": "Python 3 (ipykernel)",
   "language": "python",
   "name": "python3"
  },
  "language_info": {
   "codemirror_mode": {
    "name": "ipython",
    "version": 3
   },
   "file_extension": ".py",
   "mimetype": "text/x-python",
   "name": "python",
   "nbconvert_exporter": "python",
   "pygments_lexer": "ipython3",
   "version": "3.10.6"
  }
 },
 "nbformat": 4,
 "nbformat_minor": 5
}
